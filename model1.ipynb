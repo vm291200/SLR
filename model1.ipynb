{
  "cells": [
    {
      "cell_type": "markdown",
      "metadata": {
        "id": "view-in-github",
        "colab_type": "text"
      },
      "source": [
        "<a href=\"https://colab.research.google.com/github/vm291200/SLR/blob/main/model1.ipynb\" target=\"_parent\"><img src=\"https://colab.research.google.com/assets/colab-badge.svg\" alt=\"Open In Colab\"/></a>"
      ]
    },
    {
      "cell_type": "markdown",
      "source": [],
      "metadata": {
        "id": "YB4wPFuqpeLt"
      }
    },
    {
      "cell_type": "code",
      "source": [
        "import os\n",
        "import cv2\n",
        "import numpy as np\n",
        "import tensorflow as tf\n",
        "import pandas as pd\n",
        "import glob\n",
        "from matplotlib import pyplot as plt"
      ],
      "metadata": {
        "id": "MnfoI0NXi8ir"
      },
      "execution_count": null,
      "outputs": []
    },
    {
      "cell_type": "code",
      "source": [
        "path = '/content/drive/MyDrive/Mini proj/Asl_dataset'\n"
      ],
      "metadata": {
        "id": "mrKihS1-jJRw"
      },
      "execution_count": null,
      "outputs": []
    },
    {
      "cell_type": "code",
      "source": [
        "data = tf.keras.preprocessing.image_dataset_from_directory(\n",
        "    path,\n",
        "    image_size=(64, 64),\n",
        "    batch_size=32,\n",
        "    validation_split=0.2,\n",
        "    seed=123,\n",
        "    label_mode = 'categorical',\n",
        "    subset=\"training\")"
      ],
      "metadata": {
        "colab": {
          "base_uri": "https://localhost:8080/"
        },
        "id": "mEgFd6NPIV9e",
        "outputId": "640b4af6-b223-4698-8807-0d5477ac6028"
      },
      "execution_count": null,
      "outputs": [
        {
          "output_type": "stream",
          "name": "stdout",
          "text": [
            "Found 2535 files belonging to 36 classes.\n",
            "Using 2028 files for training.\n"
          ]
        }
      ]
    },
    {
      "cell_type": "markdown",
      "source": [],
      "metadata": {
        "id": "FnyBhEu3tHUK"
      }
    },
    {
      "cell_type": "code",
      "source": [
        "train_size = int(0.8 * len(data))\n",
        "val_size = int(0.2 * len(data)) + 1\n",
        "train_data = data.take(train_size)\n",
        "val_data = data.skip(train_size).take(val_size)\n",
        "test_data = data = tf.keras.preprocessing.image_dataset_from_directory(\n",
        "    path,\n",
        "    image_size=(64, 64),\n",
        "    batch_size=32,\n",
        "    validation_split=0.2,\n",
        "    seed=123,\n",
        "    label_mode = 'categorical',\n",
        "    subset=\"validation\")\n",
        "# test_labels = test_data.classes"
      ],
      "metadata": {
        "colab": {
          "base_uri": "https://localhost:8080/"
        },
        "id": "EWiFBLS_ikQ7",
        "outputId": "a625b92f-7367-4abb-9c08-9fa92c47d8c2"
      },
      "execution_count": null,
      "outputs": [
        {
          "output_type": "stream",
          "name": "stdout",
          "text": [
            "Found 2535 files belonging to 36 classes.\n",
            "Using 507 files for validation.\n"
          ]
        }
      ]
    },
    {
      "cell_type": "code",
      "source": [
        "from google.colab import drive\n",
        "drive.mount('/content/drive')"
      ],
      "metadata": {
        "colab": {
          "base_uri": "https://localhost:8080/"
        },
        "id": "FXqqWe2XEW3K",
        "outputId": "bb20027e-229f-4a57-ab26-7879af61b306"
      },
      "execution_count": null,
      "outputs": [
        {
          "output_type": "stream",
          "name": "stdout",
          "text": [
            "Mounted at /content/drive\n"
          ]
        }
      ]
    },
    {
      "cell_type": "code",
      "source": [
        "# print(test_data[0])\n",
        "# batch_list = [batch.tolist() for batch in test_data.as_numpy_iterator()]\n",
        "for batch in test_data:\n",
        "    # iterate over the elements within each batch\n",
        "    for element in batch:\n",
        "        print(element.numpy()[0][0][1])\n",
        "        break\n",
        "    break"
      ],
      "metadata": {
        "colab": {
          "base_uri": "https://localhost:8080/"
        },
        "id": "-9ZtpvyeLXBy",
        "outputId": "1f9c5dbd-7e81-411d-c5df-ca05d2e83a74"
      },
      "execution_count": null,
      "outputs": [
        {
          "output_type": "stream",
          "name": "stdout",
          "text": [
            "[0. 0. 0.]\n"
          ]
        }
      ]
    },
    {
      "cell_type": "code",
      "source": [
        "# import os\n",
        "# import numpy as np\n",
        "# from keras.preprocessing.image import ImageDataGenerator\n",
        "# from keras.models import Sequential\n",
        "# from keras.layers import Conv2D, MaxPooling2D, Flatten, Dense"
      ],
      "metadata": {
        "id": "8QwISW_FnJpv"
      },
      "execution_count": null,
      "outputs": []
    },
    {
      "cell_type": "code",
      "source": [
        "cnn_model = tf.keras.Sequential([\n",
        "    tf.keras.layers.experimental.preprocessing.Rescaling(1./255),\n",
        "    tf.keras.layers.Conv2D(32, 3, padding='same', activation='relu'),\n",
        "    tf.keras.layers.MaxPooling2D(),\n",
        "\n",
        "    tf.keras.layers.Conv2D(64, 3, padding='same', activation='relu'),\n",
        "    tf.keras.layers.MaxPooling2D(),\n",
        "\n",
        "    tf.keras.layers.Conv2D(128, 3, padding='same', activation='relu'),\n",
        "    tf.keras.layers.MaxPooling2D(),\n",
        "\n",
        "    tf.keras.layers.Flatten(),\n",
        "\n",
        "    tf.keras.layers.Dense(128, activation='sigmoid'),\n",
        "    tf.keras.layers.Dense(36, activation = 'softmax')\n",
        "])\n",
        "cnn_model.compile(optimizer='adam',\n",
        "              loss='categorical_crossentropy',\n",
        "              metrics=['accuracy'])\n",
        "history = cnn_model.fit(train_data, epochs=10,\n",
        "                    validation_data=val_data,\n",
        "                    )"
      ],
      "metadata": {
        "colab": {
          "base_uri": "https://localhost:8080/"
        },
        "id": "fGMit-EKsOul",
        "outputId": "7b2c357f-81e3-42f5-8148-285be4c96061"
      },
      "execution_count": null,
      "outputs": [
        {
          "output_type": "stream",
          "name": "stdout",
          "text": [
            "Epoch 1/10\n",
            "25/25 [==============================] - 15s 543ms/step - loss: 3.0798 - accuracy: 0.2138 - val_loss: 2.0481 - val_accuracy: 0.5421\n",
            "Epoch 2/10\n",
            "25/25 [==============================] - 13s 523ms/step - loss: 1.5971 - accuracy: 0.6350 - val_loss: 1.1941 - val_accuracy: 0.8178\n",
            "Epoch 3/10\n",
            "25/25 [==============================] - 13s 521ms/step - loss: 0.9458 - accuracy: 0.8138 - val_loss: 0.7959 - val_accuracy: 0.8598\n",
            "Epoch 4/10\n",
            "25/25 [==============================] - 12s 452ms/step - loss: 0.7254 - accuracy: 0.8575 - val_loss: 0.6478 - val_accuracy: 0.9112\n",
            "Epoch 5/10\n",
            "25/25 [==============================] - 13s 527ms/step - loss: 0.5453 - accuracy: 0.9100 - val_loss: 0.5413 - val_accuracy: 0.9206\n",
            "Epoch 6/10\n",
            "25/25 [==============================] - 13s 505ms/step - loss: 0.4278 - accuracy: 0.9325 - val_loss: 0.4298 - val_accuracy: 0.9112\n",
            "Epoch 7/10\n",
            "25/25 [==============================] - 13s 522ms/step - loss: 0.3253 - accuracy: 0.9525 - val_loss: 0.3731 - val_accuracy: 0.9206\n",
            "Epoch 8/10\n",
            "25/25 [==============================] - 13s 522ms/step - loss: 0.2776 - accuracy: 0.9600 - val_loss: 0.2856 - val_accuracy: 0.9439\n",
            "Epoch 9/10\n",
            "25/25 [==============================] - 13s 523ms/step - loss: 0.2363 - accuracy: 0.9625 - val_loss: 0.2585 - val_accuracy: 0.9626\n",
            "Epoch 10/10\n",
            "25/25 [==============================] - 13s 505ms/step - loss: 0.1953 - accuracy: 0.9712 - val_loss: 0.2003 - val_accuracy: 0.9673\n"
          ]
        }
      ]
    },
    {
      "cell_type": "markdown",
      "source": [],
      "metadata": {
        "id": "2d08GMYa8LIx"
      }
    },
    {
      "cell_type": "code",
      "source": [
        "import numpy as np\n",
        "\n",
        "# Get the predicted values for the test set\n",
        "test_labels = []\n",
        "test_predictions = []\n",
        "\n",
        "for images, labels in test_data:\n",
        "    # Get the model's predictions for the batch of images\n",
        "    batch_predictions = cnn_model.predict(images)\n",
        "\n",
        "    # Convert the predictions to labels\n",
        "    batch_labels = np.argmax(batch_predictions, axis=1)\n",
        "    # print(labels)\n",
        "\n",
        "    # Append the batch labels and predictions to the respective lists\n",
        "    test_labels.extend(labels.numpy())\n",
        "    test_predictions.extend(batch_labels.tolist())\n",
        "\n",
        "# Convert the lists to numpy arrays\n",
        "test_labels = np.array(test_labels)\n",
        "print(len(test_labels))\n",
        "test_predictions = np.array(test_predictions)\n"
      ],
      "metadata": {
        "colab": {
          "base_uri": "https://localhost:8080/"
        },
        "id": "fKrQwbf1QR53",
        "outputId": "5120847a-a660-472c-8575-c277ad5f942b"
      },
      "execution_count": null,
      "outputs": [
        {
          "output_type": "stream",
          "name": "stdout",
          "text": [
            "1/1 [==============================] - 0s 163ms/step\n",
            "1/1 [==============================] - 0s 120ms/step\n",
            "1/1 [==============================] - 0s 111ms/step\n",
            "1/1 [==============================] - 0s 106ms/step\n",
            "1/1 [==============================] - 0s 105ms/step\n",
            "1/1 [==============================] - 0s 98ms/step\n",
            "1/1 [==============================] - 0s 159ms/step\n",
            "1/1 [==============================] - 0s 169ms/step\n",
            "1/1 [==============================] - 0s 173ms/step\n",
            "1/1 [==============================] - 0s 183ms/step\n",
            "1/1 [==============================] - 0s 187ms/step\n",
            "1/1 [==============================] - 0s 173ms/step\n",
            "1/1 [==============================] - 0s 162ms/step\n",
            "1/1 [==============================] - 0s 174ms/step\n",
            "1/1 [==============================] - 0s 170ms/step\n",
            "1/1 [==============================] - 0s 259ms/step\n",
            "507\n"
          ]
        }
      ]
    },
    {
      "cell_type": "code",
      "source": [
        "from sklearn.metrics import confusion_matrix"
      ],
      "metadata": {
        "id": "29kP66YrSu-w"
      },
      "execution_count": null,
      "outputs": []
    },
    {
      "cell_type": "code",
      "source": [
        "import matplotlib.pyplot as plt\n",
        "import numpy as np\n",
        "import seaborn as sns\n"
      ],
      "metadata": {
        "id": "zASMDH6_TqXf"
      },
      "execution_count": null,
      "outputs": []
    },
    {
      "cell_type": "code",
      "source": [
        "\n",
        "# Get the predicted labels\n",
        "test_pred = cnn_model.predict(test_data)\n",
        "test_pred_classes = np.argmax(test_pred, axis=1)\n",
        "\n",
        "# Get the true labels\n",
        "test_true_classes = np.argmax(test_labels, axis=1)\n",
        "\n",
        "# Generate the confusion matrix\n",
        "conf_matrix = confusion_matrix(test_true_classes, test_pred_classes)\n",
        "class_names = ['0','1','2','3','4','5','6','7','8','9','A', 'B', 'C', 'D', 'E', 'F', 'G', 'H', 'I', 'J', 'K', 'L', 'M', 'N', 'O', 'P', 'Q', 'R', 'S', 'T', 'U', 'V', 'W', 'X', 'Y', 'Z',]\n",
        "# Plot the confusion matrix\n",
        "plt.figure(figsize=(12, 12))\n",
        "sns.heatmap(conf_matrix, annot=True, cmap='Blues', fmt='g')\n",
        "plt.xticks(np.arange(36) + 0.5, labels=class_names)\n",
        "plt.yticks(np.arange(36) + 0.5, labels=class_names)\n",
        "plt.xlabel('Predicted Label')\n",
        "plt.ylabel('True Label')\n",
        "plt.show()"
      ],
      "metadata": {
        "colab": {
          "base_uri": "https://localhost:8080/",
          "height": 1000
        },
        "id": "ymHFH826P6pX",
        "outputId": "cf081d83-1438-417b-b12d-2f96ad29e042"
      },
      "execution_count": null,
      "outputs": [
        {
          "output_type": "stream",
          "name": "stdout",
          "text": [
            "16/16 [==============================] - 2s 97ms/step\n"
          ]
        },
        {
          "output_type": "display_data",
          "data": {
            "text/plain": [
              "<Figure size 1200x1200 with 2 Axes>"
            ],
            "image/png": "[encoded data removed]"
          },
          "metadata": {}
        }
      ]
    },
    {
      "cell_type": "code",
      "source": [
        "val_labels = np.concatenate([y for x, y in val_data], axis=0)\n",
        "val_pred_probs = cnn_model.predict(val_data)\n",
        "val_pred_labels = np.argmax(val_pred_probs, axis=1)"
      ],
      "metadata": {
        "colab": {
          "base_uri": "https://localhost:8080/"
        },
        "id": "KiEQuk_VI0Z6",
        "outputId": "f0844121-3bc7-4582-d567-6be0f36f3213"
      },
      "execution_count": null,
      "outputs": [
        {
          "output_type": "stream",
          "name": "stdout",
          "text": [
            "13/13 [==============================] - 4s 84ms/step\n"
          ]
        }
      ]
    },
    {
      "cell_type": "code",
      "source": [
        "cnn_model.summary()"
      ],
      "metadata": {
        "colab": {
          "base_uri": "https://localhost:8080/"
        },
        "id": "uONURYuU5JiI",
        "outputId": "0bbd497a-f2d8-4464-e6c2-8b93da5f737b"
      },
      "execution_count": null,
      "outputs": [
        {
          "output_type": "stream",
          "name": "stdout",
          "text": [
            "Model: \"sequential\"\n",
            "_________________________________________________________________\n",
            " Layer (type)                Output Shape              Param #   \n",
            "=================================================================\n",
            " rescaling (Rescaling)       (None, 64, 64, 3)         0         \n",
            "                                                                 \n",
            " conv2d (Conv2D)             (None, 64, 64, 32)        896       \n",
            "                                                                 \n",
            " max_pooling2d (MaxPooling2D  (None, 32, 32, 32)       0         \n",
            " )                                                               \n",
            "                                                                 \n",
            " conv2d_1 (Conv2D)           (None, 32, 32, 64)        18496     \n",
            "                                                                 \n",
            " max_pooling2d_1 (MaxPooling  (None, 16, 16, 64)       0         \n",
            " 2D)                                                             \n",
            "                                                                 \n",
            " conv2d_2 (Conv2D)           (None, 16, 16, 128)       73856     \n",
            "                                                                 \n",
            " max_pooling2d_2 (MaxPooling  (None, 8, 8, 128)        0         \n",
            " 2D)                                                             \n",
            "                                                                 \n",
            " flatten (Flatten)           (None, 8192)              0         \n",
            "                                                                 \n",
            " dense (Dense)               (None, 128)               1048704   \n",
            "                                                                 \n",
            " dense_1 (Dense)             (None, 36)                4644      \n",
            "                                                                 \n",
            "=================================================================\n",
            "Total params: 1,146,596\n",
            "Trainable params: 1,146,596\n",
            "Non-trainable params: 0\n",
            "_________________________________________________________________\n"
          ]
        }
      ]
    },
    {
      "cell_type": "code",
      "source": [
        "# Get the predicted labels\n",
        "test_pred = cnn_model.predict(test_data)\n",
        "test_pred_classes = np.argmax(test_pred, axis=1)\n",
        "\n",
        "# Get the true labels\n",
        "test_true_classes = np.argmax(test_labels, axis=1)\n",
        "\n",
        "# Generate the confusion matrix\n",
        "conf_matrix = confusion_matrix(test_true_classes, test_pred_classes)\n",
        "class_names = ['0','1','2','3','4','5','6','7','8','9','A', 'B', 'C', 'D', 'E', 'F', 'G', 'H', 'I', 'J', 'K', 'L', 'M', 'N', 'O', 'P', 'Q', 'R', 'S', 'T', 'U', 'V', 'W', 'X', 'Y', 'Z',]\n",
        "# Plot the confusion matrix\n",
        "plt.figure(figsize=(12, 12))\n",
        "sns.heatmap(conf_matrix, annot=True, cmap='Blues', fmt='g')\n",
        "plt.xticks(np.arange(36) + 0.5, labels=class_names)\n",
        "plt.yticks(np.arange(36) + 0.5, labels=class_names)\n",
        "plt.xlabel('Predicted Label')\n",
        "plt.ylabel('True Label')\n",
        "plt.show()"
      ],
      "metadata": {
        "id": "Av3Quh67dq0Q"
      },
      "execution_count": null,
      "outputs": []
    },
    {
      "cell_type": "code",
      "source": [
        "import numpy as np\n",
        "import tensorflow as tf\n",
        "from tensorflow.keras.preprocessing import image\n"
      ],
      "metadata": {
        "id": "G3Cmaqrw8OGF"
      },
      "execution_count": null,
      "outputs": []
    },
    {
      "cell_type": "code",
      "source": [
        "cnn_model = tf.keras.Sequential([\n",
        "    tf.keras.layers.experimental.preprocessing.Rescaling(1./255),\n",
        "    tf.keras.layers.Conv2D(32, 3, padding='same', activation='relu'),\n",
        "    tf.keras.layers.MaxPooling2D(),\n",
        "\n",
        "\n",
        "    tf.keras.layers.Conv2D(64, 3, padding='same', activation='relu'),\n",
        "    tf.keras.layers.MaxPooling2D(),\n",
        "\n",
        "    tf.keras.layers.Conv2D(128, 3, padding='same', activation='relu'),\n",
        "    tf.keras.layers.MaxPooling2D(),\n",
        "\n",
        "    tf.keras.layers.Flatten(),\n",
        "\n",
        "    tf.keras.layers.Dense(128, activation='sigmoid'),\n",
        "    tf.keras.layers.Dense(36, activation = 'softmax')\n",
        "])\n",
        "cnn_model.compile(optimizer='adam',\n",
        "              loss='categorical_crossentropy',\n",
        "              metrics=['accuracy'])\n",
        "history = cnn_model.fit(train_data, epochs=5,\n",
        "                    validation_data=val_data,\n",
        "                    )"
      ],
      "metadata": {
        "colab": {
          "base_uri": "https://localhost:8080/"
        },
        "id": "M9yQRp3J9X7P",
        "outputId": "5048d6e0-55e7-494c-be99-cd84b5372030"
      },
      "execution_count": null,
      "outputs": [
        {
          "output_type": "stream",
          "name": "stdout",
          "text": [
            "Epoch 1/5\n",
            "51/51 [==============================] - 493s 8s/step - loss: 2.3483 - accuracy: 0.4473 - val_loss: 1.1882 - val_accuracy: 0.7854\n",
            "Epoch 2/5\n",
            "51/51 [==============================] - 23s 444ms/step - loss: 0.9017 - accuracy: 0.8376 - val_loss: 0.6124 - val_accuracy: 0.9015\n",
            "Epoch 3/5\n",
            "51/51 [==============================] - 25s 481ms/step - loss: 0.4988 - accuracy: 0.9112 - val_loss: 0.4039 - val_accuracy: 0.9293\n",
            "Epoch 4/5\n",
            "51/51 [==============================] - 25s 486ms/step - loss: 0.3456 - accuracy: 0.9430 - val_loss: 0.3103 - val_accuracy: 0.9343\n",
            "Epoch 5/5\n",
            "51/51 [==============================] - 29s 564ms/step - loss: 0.2448 - accuracy: 0.9571 - val_loss: 0.2427 - val_accuracy: 0.9520\n"
          ]
        }
      ]
    },
    {
      "cell_type": "code",
      "source": [
        "!pwd\n"
      ],
      "metadata": {
        "colab": {
          "base_uri": "https://localhost:8080/"
        },
        "id": "rTvbQusxEPUv",
        "outputId": "080362b3-52ad-4f32-c168-9a5dae100242"
      },
      "execution_count": null,
      "outputs": [
        {
          "output_type": "stream",
          "name": "stdout",
          "text": [
            "/content\n"
          ]
        }
      ]
    },
    {
      "cell_type": "code",
      "source": [
        "cnn_model.save('model.h5')"
      ],
      "metadata": {
        "id": "eMpwmF66TRse"
      },
      "execution_count": null,
      "outputs": []
    },
    {
      "cell_type": "code",
      "source": [
        "!ls\n"
      ],
      "metadata": {
        "colab": {
          "base_uri": "https://localhost:8080/"
        },
        "id": "khjKgqotES91",
        "outputId": "365a42fe-4789-4bfc-83f5-5bd2617d7dd0"
      },
      "execution_count": null,
      "outputs": [
        {
          "output_type": "stream",
          "name": "stdout",
          "text": [
            "drive  sample_data\n"
          ]
        }
      ]
    },
    {
      "cell_type": "code",
      "source": [
        "# model.save('cnn_model.h5')\n",
        "tf.keras.models.save_model('cnn_model.h5')"
      ],
      "metadata": {
        "colab": {
          "base_uri": "https://localhost:8080/",
          "height": 182
        },
        "id": "6qK_vEBGIuRj",
        "outputId": "718926eb-a881-4d6b-89ff-438e7229cfb1"
      },
      "execution_count": null,
      "outputs": [
        {
          "output_type": "error",
          "ename": "TypeError",
          "evalue": "ignored",
          "traceback": [
            "\u001b[0;31m---------------------------------------------------------------------------\u001b[0m",
            "\u001b[0;31mTypeError\u001b[0m                                 Traceback (most recent call last)",
            "\u001b[0;32m<ipython-input-21-5eeb208fabf8>\u001b[0m in \u001b[0;36m<cell line: 2>\u001b[0;34m()\u001b[0m\n\u001b[1;32m      1\u001b[0m \u001b[0;31m# model.save('cnn_model.h5')\u001b[0m\u001b[0;34m\u001b[0m\u001b[0;34m\u001b[0m\u001b[0m\n\u001b[0;32m----> 2\u001b[0;31m \u001b[0mtf\u001b[0m\u001b[0;34m.\u001b[0m\u001b[0mkeras\u001b[0m\u001b[0;34m.\u001b[0m\u001b[0mmodels\u001b[0m\u001b[0;34m.\u001b[0m\u001b[0msave_model\u001b[0m\u001b[0;34m(\u001b[0m\u001b[0;34m'cnn_model.h5'\u001b[0m\u001b[0;34m)\u001b[0m\u001b[0;34m\u001b[0m\u001b[0;34m\u001b[0m\u001b[0m\n\u001b[0m",
            "\u001b[0;31mTypeError\u001b[0m: save_model() missing 1 required positional argument: 'filepath'"
          ]
        }
      ]
    },
    {
      "cell_type": "code",
      "source": [
        "import os\n",
        "os.chdir(\"/content/drive/My Drive/path/to/your/model\")\n"
      ],
      "metadata": {
        "colab": {
          "base_uri": "https://localhost:8080/",
          "height": 182
        },
        "id": "NyWDOiChSp1A",
        "outputId": "a6642f57-4594-46f7-dd94-f2a842baaad9"
      },
      "execution_count": null,
      "outputs": [
        {
          "output_type": "error",
          "ename": "FileNotFoundError",
          "evalue": "ignored",
          "traceback": [
            "\u001b[0;31m---------------------------------------------------------------------------\u001b[0m",
            "\u001b[0;31mFileNotFoundError\u001b[0m                         Traceback (most recent call last)",
            "\u001b[0;32m<ipython-input-22-132b2c4ba7d6>\u001b[0m in \u001b[0;36m<cell line: 2>\u001b[0;34m()\u001b[0m\n\u001b[1;32m      1\u001b[0m \u001b[0;32mimport\u001b[0m \u001b[0mos\u001b[0m\u001b[0;34m\u001b[0m\u001b[0;34m\u001b[0m\u001b[0m\n\u001b[0;32m----> 2\u001b[0;31m \u001b[0mos\u001b[0m\u001b[0;34m.\u001b[0m\u001b[0mchdir\u001b[0m\u001b[0;34m(\u001b[0m\u001b[0;34m\"/content/drive/My Drive/path/to/your/model\"\u001b[0m\u001b[0;34m)\u001b[0m\u001b[0;34m\u001b[0m\u001b[0;34m\u001b[0m\u001b[0m\n\u001b[0m",
            "\u001b[0;31mFileNotFoundError\u001b[0m: [Errno 2] No such file or directory: '/content/drive/My Drive/path/to/your/model'"
          ]
        }
      ]
    },
    {
      "cell_type": "code",
      "source": [
        "model = tf.keras.models.load_model('model.h5')"
      ],
      "metadata": {
        "id": "lVA5eE5F8Osb"
      },
      "execution_count": null,
      "outputs": []
    },
    {
      "cell_type": "code",
      "source": [
        "img = image.load_img('/content/drive/MyDrive/Mini proj/Asl_dataset/v/hand1_v_bot_seg_1_cropped.jpeg', target_size=(64, 64))\n",
        "x = image.img_to_array(img)\n",
        "x = np.expand_dims(x, axis=0)\n",
        "x = x / 255.0"
      ],
      "metadata": {
        "id": "ezX1GDwF8g4p"
      },
      "execution_count": null,
      "outputs": []
    },
    {
      "cell_type": "code",
      "source": [
        "probs = model.predict(x)[0]\n",
        "pred_label = np.argmax(probs)"
      ],
      "metadata": {
        "id": "I5IpB66s8hTu",
        "colab": {
          "base_uri": "https://localhost:8080/"
        },
        "outputId": "4316bda9-c6b4-42a4-cb53-3c2174ed79d7"
      },
      "execution_count": null,
      "outputs": [
        {
          "output_type": "stream",
          "name": "stdout",
          "text": [
            "1/1 [==============================] - 0s 33ms/step\n"
          ]
        }
      ]
    },
    {
      "cell_type": "code",
      "source": [
        "print(\"Predicted label: \", pred_label)\n",
        "print(\"Class probabilities: \", probs)"
      ],
      "metadata": {
        "id": "gKPEsJN-849f",
        "colab": {
          "base_uri": "https://localhost:8080/"
        },
        "outputId": "2cb78992-4990-4f5a-d5ce-86efdcf70694"
      },
      "execution_count": null,
      "outputs": [
        {
          "output_type": "stream",
          "name": "stdout",
          "text": [
            "Predicted label:  28\n",
            "Class probabilities:  [0.02229779 0.02717895 0.02668446 0.01998673 0.02854103 0.03866337\n",
            " 0.02795908 0.0298247  0.02434732 0.02888157 0.03043294 0.01870497\n",
            " 0.02087477 0.03830877 0.01807302 0.0245053  0.0235015  0.02387683\n",
            " 0.01969769 0.01334463 0.03242256 0.01974309 0.03751659 0.04379355\n",
            " 0.03031043 0.02257398 0.01248692 0.03674956 0.0449063  0.02292455\n",
            " 0.03254602 0.03166216 0.02602303 0.03118306 0.02788746 0.04158538]\n"
          ]
        }
      ]
    },
    {
      "cell_type": "code",
      "source": [
        "import tensorflow as tf\n",
        "import numpy as np\n",
        "from PIL import Image\n",
        "\n",
        "# Load the image\n",
        "image_path = \"/content/drive/MyDrive/Mini proj/Asl_dataset/l/hand2_l_left_seg_5_cropped.jpeg\"\n",
        "image = Image.open(image_path).convert('RGB')\n",
        "\n",
        "# Preprocess the image\n",
        "resized_image = image.resize((64, 64))\n",
        "normalized_image = np.array(resized_image) / 255.0\n",
        "input_image = np.expand_dims(normalized_image, axis=0)\n",
        "\n",
        "# Load the model\n",
        "model_path = \"model.h5\"\n",
        "model = tf.keras.models.load_model(model_path)\n",
        "\n",
        "# Make the prediction\n",
        "prediction = model.predict(input_image)\n",
        "predicted_class = np.argmax(prediction)\n",
        "\n",
        "print(\"Predicted class:\", predicted_class)\n"
      ],
      "metadata": {
        "colab": {
          "base_uri": "https://localhost:8080/"
        },
        "id": "Fi4gl9vLT7ZT",
        "outputId": "52c3c234-0474-4b91-c377-df945fe7a38a"
      },
      "execution_count": null,
      "outputs": [
        {
          "output_type": "stream",
          "name": "stderr",
          "text": [
            "WARNING:tensorflow:5 out of the last 6 calls to <function Model.make_predict_function.<locals>.predict_function at 0x7f03fff5feb0> triggered tf.function retracing. Tracing is expensive and the excessive number of tracings could be due to (1) creating @tf.function repeatedly in a loop, (2) passing tensors with different shapes, (3) passing Python objects instead of tensors. For (1), please define your @tf.function outside of the loop. For (2), @tf.function has reduce_retracing=True option that can avoid unnecessary retracing. For (3), please refer to https://www.tensorflow.org/guide/function#controlling_retracing and https://www.tensorflow.org/api_docs/python/tf/function for  more details.\n"
          ]
        },
        {
          "output_type": "stream",
          "name": "stdout",
          "text": [
            "1/1 [==============================] - 0s 190ms/step\n",
            "Predicted class: 28\n"
          ]
        }
      ]
    },
    {
      "cell_type": "code",
      "source": [],
      "metadata": {
        "id": "VHsrCw8TUQLZ"
      },
      "execution_count": null,
      "outputs": []
    }
  ],
  "metadata": {
    "colab": {
      "provenance": [],
      "include_colab_link": true
    },
    "kernelspec": {
      "display_name": "Python 3",
      "name": "python3"
    },
    "language_info": {
      "name": "python"
    }
  },
  "nbformat": 4,
  "nbformat_minor": 0
}